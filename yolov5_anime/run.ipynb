{
 "cells": [
  {
   "cell_type": "markdown",
   "metadata": {},
   "source": [
    "### setting\n",
    "cd yolov5 yolov5_anime-master  \n",
    "pip install -r requirements.txt  # for yolov5_anime  \n",
    "pip install -r requirements1.txt  # for yolov5  \n",
    "\n",
    "### prepare\n",
    "put images in 'path/images/'\n",
    "\n",
    "### run detect code\n",
    "python detect.py --weights path/model/yolov5s_anime.pt --source path/images/gongjooyoung_1.png --output path/output/folder\n",
    "\n",
    "### error solution\n",
    "error : 'Upsample' object has no attribute 'recompute_scale_factor'  \n",
    "solution : comment out 'recompute_scale_factor=self.recompute_scale_factor' of upsampling.py  \n",
    "(https://iambeginnerdeveloper.tistory.com/183)"
   ]
  },
  {
   "cell_type": "code",
   "execution_count": null,
   "metadata": {},
   "outputs": [],
   "source": []
  }
 ],
 "metadata": {
  "kernelspec": {
   "display_name": "Python 3.7.13 ('YAIVERSE_yolov5')",
   "language": "python",
   "name": "python3"
  },
  "language_info": {
   "name": "python",
   "version": "3.7.13"
  },
  "orig_nbformat": 4,
  "vscode": {
   "interpreter": {
    "hash": "d213a026c7b17b7074c1bfe701af95f0ede8d3c6f95bf06874b3bc624b4aca98"
   }
  }
 },
 "nbformat": 4,
 "nbformat_minor": 2
}
